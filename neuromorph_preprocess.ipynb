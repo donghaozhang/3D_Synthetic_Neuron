{
 "cells": [
  {
   "cell_type": "code",
   "execution_count": 1,
   "metadata": {},
   "outputs": [],
   "source": [
    "import numpy as np\n",
    "import skfmm\n",
    "import os\n",
    "import cv2\n",
    "def loadswc(filepath):\n",
    "    '''\n",
    "    Load swc file as a N X 7 numpy array\n",
    "    '''\n",
    "    swc = []\n",
    "    with open(filepath) as f:\n",
    "        lines = f.read().split(\"\\n\")\n",
    "        for l in lines:\n",
    "            if not l.startswith('#'):\n",
    "                cells = l.split(' ')\n",
    "                if len(cells) ==7:\n",
    "                    cells = [float(c) for c in cells]\n",
    "                    swc.append(cells)\n",
    "    return np.array(swc)\n",
    "\n",
    "def saveswc(filepath, swc):\n",
    "    if swc.shape[1] > 7:\n",
    "        swc = swc[:, :7]\n",
    "\n",
    "    with open(filepath, 'w') as f:\n",
    "        for i in range(swc.shape[0]):\n",
    "            print('%d %d %.3f %.3f %.3f %.3f %d' %\n",
    "                  tuple(swc[i, :].tolist()), file=f)\n",
    "\n",
    "def loadtiff3d(filepath):\n",
    "    \"\"\"Load a tiff file into 3D numpy array\"\"\"\n",
    "\n",
    "    import tifffile as tiff\n",
    "    a = tiff.imread(filepath)\n",
    "\n",
    "    stack = []\n",
    "    for sample in a:\n",
    "        stack.append(np.rot90(np.fliplr(np.flipud(sample))))\n",
    "    out = np.dstack(stack)\n",
    "\n",
    "    return out\n",
    "\n",
    "\n",
    "def writetiff3d(filepath, block):\n",
    "    import tifffile as tiff\n",
    "\n",
    "    try:\n",
    "        os.remove(filepath)\n",
    "    except OSError:\n",
    "        pass\n",
    "\n",
    "    with tiff.TiffWriter(filepath, bigtiff=False) as tif:\n",
    "        for z in range(block.shape[2]):\n",
    "            saved_block = np.rot90(block[:, :, z])\n",
    "            tif.save(saved_block.astype('uint8'), compress=0)"
   ]
  },
  {
   "cell_type": "code",
   "execution_count": 46,
   "metadata": {},
   "outputs": [],
   "source": [
    "def add_gaussian_noise(image_in, noise_sigma=35):\n",
    "    temp_image = np.float64(np.copy(image_in))\n",
    "\n",
    "    h = temp_image.shape[0]\n",
    "    w = temp_image.shape[1]\n",
    "    noise = np.random.randn(h, w) * noise_sigma\n",
    "\n",
    "    noisy_image = np.zeros(temp_image.shape, np.float64)\n",
    "    if len(temp_image.shape) == 2:\n",
    "        noisy_image = temp_image + noise\n",
    "    else:\n",
    "        noisy_image[:,:,0] = temp_image[:,:,0] + noise\n",
    "        noisy_image[:,:,1] = temp_image[:,:,1] + noise\n",
    "        noisy_image[:,:,2] = temp_image[:,:,2] + noise\n",
    "\n",
    "    \"\"\"\n",
    "    print('min,max = ', np.min(noisy_image), np.max(noisy_image))\n",
    "    print('type = ', type(noisy_image[0][0][0]))\n",
    "    \"\"\"\n",
    "\n",
    "    return noisy_image\n"
   ]
  },
  {
   "cell_type": "code",
   "execution_count": null,
   "metadata": {},
   "outputs": [],
   "source": [
    "def "
   ]
  },
  {
   "cell_type": "code",
   "execution_count": 49,
   "metadata": {},
   "outputs": [
    {
     "name": "stdout",
     "output_type": "stream",
     "text": [
      "-14.297909050437163\n"
     ]
    }
   ],
   "source": [
    "prefix = '/media/jacktang/Work/USYD/Research/Deep_Learning/GAN/pytorch-CycleGAN-and-pix2pix/datasets/datasets/fly/fly3d/'\n",
    "from scipy.ndimage.morphology import binary_erosion\n",
    "\n",
    "six = cv2.imread(prefix+'six_2.png', 0)\n",
    "# b_six = six.copy()\n",
    "# b_six[b_six > 0] = 1\n",
    "# print(np.sum(six))\n",
    "# b_six_erode = binary_erosion(b_six)\n",
    "six_noise = add_gaussian_noise(six, 1)\n",
    "print(np.sum(six_noise-six))\n",
    "count = 0\n",
    "# while np.sum(six) > 10640410*0.8:\n",
    "# while count < 3:\n",
    "#     b_six_erode = binary_erosion(b_six_erode)\n",
    "#     six[b_six_erode == 0] = 0\n",
    "#     print(np.sum(six))\n",
    "#     count+=1\n",
    "# six[b_six_erode == 0] = 0\n",
    "six = 255-six\n",
    "six = np.expand_dims(six, axis=2)\n",
    "six = np.concatenate((six,six),axis=2)\n",
    "six = np.concatenate((six,six),axis=2)\n",
    "# six = np.concatenate((six,six),axis=2)\n",
    "# six = np.concatenate((six,six),axis=2)\n",
    "# six = np.concatenate((six,six),axis=2)\n",
    "# six[six == 0] = 1\n",
    "# print(np.unique(six))\n",
    "# print(six.shape)\n",
    "# writetiff3d(prefix+'six_2_processed.tif',six)\n",
    "# six_binary = six.copy()\n",
    "# six_binary[six_binary > 0] = 1\n",
    "# dt = skfmm.distance(six_binary, dx=1.1)"
   ]
  },
  {
   "cell_type": "code",
   "execution_count": null,
   "metadata": {},
   "outputs": [],
   "source": []
  }
 ],
 "metadata": {
  "kernelspec": {
   "display_name": "Python 3",
   "language": "python",
   "name": "python3"
  },
  "language_info": {
   "codemirror_mode": {
    "name": "ipython",
    "version": 3
   },
   "file_extension": ".py",
   "mimetype": "text/x-python",
   "name": "python",
   "nbconvert_exporter": "python",
   "pygments_lexer": "ipython3",
   "version": "3.6.9"
  }
 },
 "nbformat": 4,
 "nbformat_minor": 2
}
