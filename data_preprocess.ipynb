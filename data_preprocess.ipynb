{
 "cells": [
  {
   "cell_type": "code",
   "execution_count": 1,
   "metadata": {},
   "outputs": [],
   "source": [
    "import numpy as np\n",
    "import skfmm\n",
    "import os\n",
    "def loadswc(filepath):\n",
    "    '''\n",
    "    Load swc file as a N X 7 numpy array\n",
    "    '''\n",
    "    swc = []\n",
    "    with open(filepath) as f:\n",
    "        lines = f.read().split(\"\\n\")\n",
    "        for l in lines:\n",
    "            if not l.startswith('#'):\n",
    "                cells = l.split(' ')\n",
    "                if len(cells) ==7:\n",
    "                    cells = [float(c) for c in cells]\n",
    "                    swc.append(cells)\n",
    "    return np.array(swc)\n",
    "\n",
    "def loadtiff3d(filepath):\n",
    "    \"\"\"Load a tiff file into 3D numpy array\"\"\"\n",
    "\n",
    "    import tifffile as tiff\n",
    "    a = tiff.imread(filepath)\n",
    "\n",
    "    stack = []\n",
    "    for sample in a:\n",
    "        stack.append(np.rot90(np.fliplr(np.flipud(sample))))\n",
    "    out = np.dstack(stack)\n",
    "\n",
    "    return out\n",
    "\n",
    "\n",
    "def writetiff3d(filepath, block):\n",
    "    import tifffile as tiff\n",
    "\n",
    "    try:\n",
    "        os.remove(filepath)\n",
    "    except OSError:\n",
    "        pass\n",
    "\n",
    "    with tiff.TiffWriter(filepath, bigtiff=False) as tif:\n",
    "        for z in range(block.shape[2]):\n",
    "            saved_block = np.rot90(block[:, :, z])\n",
    "            tif.save(saved_block.astype('uint8'), compress=0)"
   ]
  },
  {
   "cell_type": "code",
   "execution_count": 2,
   "metadata": {},
   "outputs": [],
   "source": [
    "def crop(img):\n",
    "    ind = np.argwhere(img>0)\n",
    "    x = ind[:,0]\n",
    "    y = ind[:,1]\n",
    "    z = ind[:,2]\n",
    "    xmin = max(x.min()-5, 0)\n",
    "    xmax = min(x.max()+5, img.shape[0])\n",
    "    ymin = max(y.min()-5, 0)\n",
    "    ymax = max(y.min()+5, img.shape[1])\n",
    "    zmin = max(z.min()-5, 0)\n",
    "    zmax = max(z.min()+5, img.shape[2])\n",
    "    \n",
    "    return np.array([[xmin, xmax], [ymin, ymax], [zmin, zmax]])\n",
    "    "
   ]
  },
  {
   "cell_type": "code",
   "execution_count": 3,
   "metadata": {},
   "outputs": [],
   "source": [
    "'''\n",
    "Regenerate tif file from swc and also apply distance transform.\n",
    "'''\n",
    "def swc2tif_dt(swc, img):\n",
    "    import math\n",
    "\n",
    "    shape = img.shape\n",
    "    skimg = np.ones(shape)\n",
    "    zeromask = np.ones(shape)\n",
    "\n",
    "    # Add nodes the current swc to make sure there is\n",
    "    # at least one node in each voxel on a branch\n",
    "    idlist = swc[:, 0]\n",
    "    extra_nodes = []\n",
    "    extra_nodes_radius = []\n",
    "    for i in range(swc.shape[0]):\n",
    "        cnode = swc[i, 2:5]\n",
    "        c_radius = swc[i, -2]\n",
    "        pnode = swc[idlist == swc[i, 6], 2:5]\n",
    "        if pnode.shape[0] != 0:\n",
    "            p_radius = swc[idlist == swc[i, 6], -2][0]\n",
    "            average_radius = int(c_radius+p_radius)/2\n",
    "\n",
    "        dvec = pnode - cnode # [[x, y, z]]\n",
    "        dvox = np.floor(np.linalg.norm(dvec)) # eculidean norm\n",
    "        if dvox >= 1:\n",
    "            uvec = dvec / (dvox + 1) # unit vector\n",
    "            extra_nodes.extend(\n",
    "                [cnode + uvec * i for i in range(1, int(dvox))])\n",
    "            extra_nodes_radius.extend([average_radius for i in range(1, int(dvox))])\n",
    "\n",
    "    # Deal with nodes in swc\n",
    "    for i in range(swc.shape[0]):\n",
    "        node = [math.floor(n) for n in swc[i, 2:5]]\n",
    "        for j in range(3):\n",
    "            if node[j] > shape[j]-1:\n",
    "                node[j] = shape[j]-1\n",
    "        r = int(swc[i, -2])\n",
    "        skimg[node[0], node[1], node[2]] = 0\n",
    "        zeromask[max(0,node[0]-r): min(node[0]+r, shape[0]), max(0,node[1]-r):min(node[1]+r, shape[1]), max(0, node[2]-r):min(node[2]+r, shape[2])] = 0\n",
    "\n",
    "    # Deal with the extra nodes\n",
    "    ex_count = 0\n",
    "    for ex in extra_nodes:\n",
    "        node = [math.floor(n) for n in ex[0]] # get integer x, y, z\n",
    "        for j in range(3):\n",
    "            if node[j] > shape[j]-1:\n",
    "                node[j] = shape[j]-1\n",
    "        skimg[node[0], node[1], node[2]] = 0\n",
    "        r = int(extra_nodes_radius[ex_count])\n",
    "        zeromask[max(0,node[0]-r): min(node[0]+r, shape[0]), max(0,node[1]-r):min(node[1]+r, shape[1]), max(0, node[2]-r):min(node[2]+r, shape[2])] = 0\n",
    "        ex_count += 1\n",
    "\n",
    "    a, dm = 6, 5\n",
    "    dt = skfmm.distance(skimg, dx=1)\n",
    "\n",
    "    dt = np.exp(a * (1 - dt / dm)) - 1\n",
    "    dt[zeromask == 1] = 0\n",
    "    dt = (dt/np.max(dt))*255\n",
    "    return dt"
   ]
  },
  {
   "cell_type": "code",
   "execution_count": 4,
   "metadata": {},
   "outputs": [],
   "source": [
    "def updatePlane(swc, row, plane, axis1_coordinate, axis2_coordinate, axis1_max, axis2_max, r, p, axis1, axis2):\n",
    "    plane[max(0, int(axis1_coordinate - r)):min(int(axis1_max), int(axis1_coordinate + r)), max(0, int(axis2_coordinate - r)):min(int(axis2_max), int(axis2_coordinate + r))] = 1\n",
    "    for search_parent in range(0, row):\n",
    "        if swc[search_parent][0] == p:\n",
    "            rr, cc, val = line_aa(int(axis1_coordinate), int(axis2_coordinate), int(swc[search_parent][axis1]), int(swc[search_parent][axis2]))\n",
    "            plane[rr, cc] = val * 255\n",
    "            break\n",
    "    return plane"
   ]
  },
  {
   "cell_type": "code",
   "execution_count": 5,
   "metadata": {},
   "outputs": [],
   "source": [
    "def swc2DProjection(filepath, tif_filepath):\n",
    "    img = loadtiff3d(tif_filepath)\n",
    "\n",
    "    swc = loadswc(filepath)\n",
    "    print(swc.shape)\n",
    "    print(img.shape)\n",
    "    x_max = np.max(swc[:, 2])\n",
    "    y_max = np.max(swc[:, 3])\n",
    "    z_max = np.max(swc[:, 4])\n",
    "    print((x_max, y_max, z_max))\n",
    "    xy_plane = np.zeros(shape=(img.shape[0], img.shape[1]))\n",
    "    yz_plane = np.zeros(shape=(img.shape[1], img.shape[2]))\n",
    "    xz_plane = np.zeros(shape=(img.shape[0], img.shape[2]))\n",
    "    for row in range(swc.shape[0]):\n",
    "        x = swc[row][2]\n",
    "        y = swc[row][3]\n",
    "        z = swc[row][4]\n",
    "        r = swc[row][-2]\n",
    "        p = swc[row][-1]\n",
    "        xy_plane = updatePlane(swc, row, xy_plane, x, y, x_max, y_max, r, p, 2, 3)\n",
    "        yz_plane = updatePlane(swc, row, yz_plane, y, z, y_max, z_max, r, p, 3, 4)\n",
    "        xz_plane = updatePlane(swc, row, xz_plane, x, z, x_max, z_max, r, p, 2, 4)\n",
    "    swc_2d_folder = filepath.rstrip('.swc') + '_swc_2D_projection/'\n",
    "    if not os.path.exists(swc_2d_folder):\n",
    "        os.makedirs(swc_2d_folder)\n",
    "\n",
    "    writetiff2d(swc_2d_folder + filepath.split('.swc')[0].split('/')[-1] + '_xy.tif', (xy_plane>0)*255)\n",
    "    writetiff2d(swc_2d_folder + filepath.split('.swc')[0].split('/')[-1] + '_yz.tif', (yz_plane>0)*255)\n",
    "    writetiff2d(swc_2d_folder + filepath.split('.swc')[0].split('/')[-1] + '_xz.tif', (xz_plane>0)*255)"
   ]
  },
  {
   "cell_type": "code",
   "execution_count": 6,
   "metadata": {},
   "outputs": [],
   "source": [
    "def projection(img):\n",
    "    res = 0\n",
    "    imgxy2d = img.max(axis=2)\n",
    "    result = imgxy2d\n",
    "    if imgxy2d.shape[0] * imgxy2d.shape[1] > res:\n",
    "        res = imgxy2d.shape[0] * imgxy2d.shape[1]\n",
    "    imgxz2d = img.max(axis=1)\n",
    "    if imgxz2d.shape[0] * imgxz2d.shape[1] > res:\n",
    "        res = imgxz2d.shape[0] * imgxz2d.shape[1]\n",
    "        result = imgxz2d\n",
    "    imgyz2d = img.max(axis=0)\n",
    "    if imgyz2d.shape[0] * imgyz2d.shape[1] > res:\n",
    "        res = imgyz2d.shape[0] * imgyz2d.shape[1]\n",
    "        result = imgyz2d\n",
    "        \n",
    "    return result"
   ]
  },
  {
   "cell_type": "code",
   "execution_count": 13,
   "metadata": {},
   "outputs": [],
   "source": [
    "path_prefix = '/media/jacktang/Work/USYD/Research/Deep_Learning/GAN/pytorch-CycleGAN-and-pix2pix/datasets/datasets/fly/fly_original/'\n",
    "out_prefix = '/media/jacktang/Work/USYD/Research/Deep_Learning/GAN/pytorch-CycleGAN-and-pix2pix/datasets/datasets/fly/test_crop/'"
   ]
  },
  {
   "cell_type": "code",
   "execution_count": 16,
   "metadata": {
    "scrolled": true
   },
   "outputs": [],
   "source": [
    "import cv2\n",
    "for i in range(1,43):\n",
    "    img = loadtiff3d(path_prefix+str(i)+'.tif')\n",
    "    img_gt = loadtiff3d(path_prefix+str(i)+'_gt.tif')\n",
    "     \n",
    "    x,y,z = crop(img_gt)\n",
    "    img_crop = img[x[0]:x[1], y[0]:y[1], z[0]:z[1]]\n",
    "    img_gt = img_gt[x[0]:x[1], y[0]:y[1], z[0]:z[1]]\n",
    "    writetiff3d(out_prefix+str(i)+'.tif', img_crop)\n",
    "    writetiff3d(out_prefix+str(i)+'_gt.tif', img_gt)\n",
    "    img2d = projection(img_crop)\n",
    "    img_gt2d = projection(img_gt)\n",
    "    cv2.imwrite(out_prefix+str(i)+'_2d.tif', img2d)\n",
    "    cv2.imwrite(out_prefix+str(i)+'_gt_2d.tif', img_gt2d)"
   ]
  },
  {
   "cell_type": "code",
   "execution_count": 29,
   "metadata": {},
   "outputs": [
    {
     "name": "stdout",
     "output_type": "stream",
     "text": [
      "4 112 130\n",
      "12 93 111\n",
      "17 240 95\n",
      "18 128 119\n",
      "26 104 207\n",
      "28 108 210\n",
      "31 221 100\n",
      "40 115 104\n",
      "93 490 95 371\n"
     ]
    }
   ],
   "source": [
    "path_prefix = '/media/jacktang/Work/USYD/Research/Deep_Learning/GAN/pytorch-CycleGAN-and-pix2pix/datasets/datasets/fly/test_crop/'\n",
    "nhmax = 0\n",
    "nhmin = np.inf\n",
    "nwmax = 0\n",
    "nwmin = np.inf\n",
    "for i in range(1,43):\n",
    "    gt = cv2.imread(path_prefix+str(i)+'_2d.tif',0)\n",
    "#     print(gt.shape)\n",
    "    h, w = gt.shape\n",
    "    if h<128 or w<128:\n",
    "        print(i,h,w)\n",
    "    nhmax = h if h > nhmax else nhmax\n",
    "    nhmin = h if h < nhmin else nhmin\n",
    "    nwmax = w if w > nwmax else nwmax\n",
    "    nwmin = w if w < nwmin else nwmin\n",
    "    \n",
    "print(nhmin, nhmax, nwmin, nwmax)"
   ]
  },
  {
   "cell_type": "code",
   "execution_count": null,
   "metadata": {},
   "outputs": [],
   "source": [
    "path_prefix = '/media/jacktang/Work/USYD/Research/Deep_Learning/GAN/pytorch-CycleGAN-and-pix2pix/datasets/datasets/fly/fly3d/trainA/'\n",
    "nhmax = 0\n",
    "nhmin = np.inf\n",
    "nwmax = 0\n",
    "nwmin = np.inf\n",
    "for i in range(1,43):\n",
    "    gt = cv2.imread(path_prefix+str(i)+'i.tif',0)\n",
    "#     print(gt.shape)\n",
    "    h, w = gt.shape\n",
    "    if h<128 or w<128:\n",
    "        print(i,h,w)\n",
    "    nhmax = h if h > nhmax else nhmax\n",
    "    nhmin = h if h < nhmin else nhmin\n",
    "    nwmax = w if w > nwmax else nwmax\n",
    "    nwmin = w if w < nwmin else nwmin\n",
    "    \n",
    "print(nhmin, nhmax, nwmin, nwmax)"
   ]
  },
  {
   "cell_type": "code",
   "execution_count": 16,
   "metadata": {},
   "outputs": [],
   "source": [
    "import subprocess\n",
    "path_prefix = '/media/jacktang/Work/USYD/Research/Deep_Learning/GAN/pytorch-CycleGAN-and-pix2pix/datasets/datasets/fly/fly_original/'\n",
    "for i in range(1,43):\n",
    "    img = loadtiff3d(path_prefix+str(i)+'.tif')\n",
    "    swc = loadswc(path_prefix+str(i)+'.swc')\n",
    "    img_gt = swc2tif_dt(swc,img)\n",
    "    writetiff3d(path_prefix+str(i)+'_gt.tif', img_gt)"
   ]
  },
  {
   "cell_type": "code",
   "execution_count": 24,
   "metadata": {},
   "outputs": [
    {
     "name": "stdout",
     "output_type": "stream",
     "text": [
      "[0, 1, 2, 3, 4, 5, 6, 7, 8, 9, 10, 11, 12, 13, 14, 15, 16, 17, 18, 19, 20, 21, 22, 23, 24, 25, 26, 27, 28, 29, 30, 31, 32, 33, 34, 35, 36, 37, 38, 39, 40, 41, 42]\n",
      "train:  [12, 17, 31, 38, 42, 18, 26, 4, 13, 32, 15, 5, 34, 1, 23, 29, 9, 39, 3, 11, 0, 27, 36, 41, 6, 28, 30, 19, 35, 21, 8, 2, 37, 14, 25, 7, 10, 24]\n",
      "val:  [33, 16, 20, 22, 40]\n"
     ]
    }
   ],
   "source": [
    "import random \n",
    "\n",
    "ind = [x for x in range(43)]\n",
    "print(ind)\n",
    "path_prefix = '/media/jacktang/Work/USYD/Research/Deep_Learning/GAN/pytorch-CycleGAN-and-pix2pix/datasets/datasets/fly/test_crop/'\n",
    "out_prefix = '/media/jacktang/Work/USYD/Research/Deep_Learning/GAN/pytorch-CycleGAN-and-pix2pix/datasets/datasets/fly/fly2d/'\n",
    "random.shuffle(ind)\n",
    "print('train: ', ind[:38])\n",
    "print('val: ', ind[38:])\n",
    "for i in ind[:38]:\n",
    "    subprocess.call(['cp', path_prefix+str(i)+'_2d.tif', out_prefix+'trainB/'+str(i)+'_2d.tif'])\n",
    "    subprocess.call(['cp', path_prefix+str(i)+'_gt_2d.tif', out_prefix+'trainA/'+str(i)+'_gt_2d.tif'])\n",
    "\n",
    "for i in ind[38:]:\n",
    "    subprocess.call(['cp', path_prefix+str(i)+'_2d.tif', out_prefix+'valA/'+str(i)+'_2d.tif'])\n",
    "    subprocess.call(['cp', path_prefix+str(i)+'_gt_2d.tif', out_prefix+'valB/'+str(i)+'_gt_2d.tif'])\n"
   ]
  },
  {
   "cell_type": "code",
   "execution_count": 22,
   "metadata": {},
   "outputs": [],
   "source": [
    "from PIL import Image\n",
    "path_prefix = '/media/jacktang/Work/USYD/Research/Deep_Learning/GAN/pytorch-CycleGAN-and-pix2pix/datasets/datasets/fly/test_crop/'\n",
    "a = Image.open(path_prefix+'1.tif')"
   ]
  },
  {
   "cell_type": "code",
   "execution_count": 17,
   "metadata": {},
   "outputs": [],
   "source": [
    "train = [12, 17, 31, 38, 42, 18, 26, 4, 13, 32, 15, 5, 34, 1, 23, 29, 9, 39, 3, 11, 27, 36, 41, 6, 28, 30, 19, 35, 21, 8, 2, 37, 14, 25, 7, 10, 24]\n",
    "val = [33, 16, 20, 22, 40]"
   ]
  },
  {
   "cell_type": "code",
   "execution_count": 18,
   "metadata": {},
   "outputs": [],
   "source": [
    "import subprocess\n",
    "in_prefix = '/media/jacktang/Work/USYD/Research/Deep_Learning/GAN/pytorch-CycleGAN-and-pix2pix/datasets/datasets/fly/test_crop/'\n",
    "out_prefix = '/media/jacktang/Work/USYD/Research/Deep_Learning/GAN/pytorch-CycleGAN-and-pix2pix/datasets/datasets/fly/fly3d/'\n",
    "\n",
    "for t in train:\n",
    "    subprocess.call(['cp', in_prefix+str(t)+'.tif', out_prefix+'trainB/'+str(t)+'.tif'])\n",
    "    subprocess.call(['cp', in_prefix+str(t)+'_gt.tif', out_prefix+'trainA/'+str(t)+'_gt.tif'])\n",
    "    \n",
    "for t in val:\n",
    "    subprocess.call(['cp', in_prefix+str(t)+'.tif', out_prefix+'testB/'+str(t)+'.tif'])\n",
    "    subprocess.call(['cp', in_prefix+str(t)+'_gt.tif', out_prefix+'testA/'+str(t)+'_gt.tif'])"
   ]
  },
  {
   "cell_type": "code",
   "execution_count": 11,
   "metadata": {},
   "outputs": [],
   "source": [
    "path_prefix1 = '/media/jacktang/Work/USYD/Research/Deep_Learning/GAN/pytorch-CycleGAN-and-pix2pix/datasets/datasets/fly/fly_original/'\n",
    "path_prefix2 = '/media/jacktang/Work/USYD/Research/Deep_Learning/GAN/pytorch-CycleGAN-and-pix2pix/datasets/datasets/fly/test_crop/'\n",
    "\n",
    "for i in range(1,43):\n",
    "    a = loadtiff3d(path_prefix1+str(i)+'.tif').shape\n",
    "    b = loadtiff3d(path_prefix2+str(i)+'.tif').shape\n",
    "    if np.sum([a[0]-b[0],a[1]-b[1],a[2]-b[2]]) > 0:\n",
    "        print(i, a, b)"
   ]
  },
  {
   "cell_type": "code",
   "execution_count": 22,
   "metadata": {},
   "outputs": [
    {
     "data": {
      "text/plain": [
       "True"
      ]
     },
     "execution_count": 22,
     "metadata": {},
     "output_type": "execute_result"
    }
   ],
   "source": [
    "'fake' in 'fake_b'"
   ]
  },
  {
   "cell_type": "code",
   "execution_count": null,
   "metadata": {},
   "outputs": [],
   "source": []
  }
 ],
 "metadata": {
  "kernelspec": {
   "display_name": "Python 3",
   "language": "python",
   "name": "python3"
  },
  "language_info": {
   "codemirror_mode": {
    "name": "ipython",
    "version": 3
   },
   "file_extension": ".py",
   "mimetype": "text/x-python",
   "name": "python",
   "nbconvert_exporter": "python",
   "pygments_lexer": "ipython3",
   "version": "3.6.9"
  }
 },
 "nbformat": 4,
 "nbformat_minor": 2
}
