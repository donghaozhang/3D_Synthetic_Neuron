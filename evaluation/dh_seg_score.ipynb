{
 "cells": [
  {
   "cell_type": "code",
   "execution_count": 220,
   "metadata": {},
   "outputs": [],
   "source": [
    "import torch\n",
    "import os\n",
    "import numpy as np\n",
    "%matplotlib inline\n",
    "import matplotlib.pyplot as plt \n",
    "\n",
    "\n",
    "def loadtiff3d(filepath):\n",
    "    \"\"\"Load a tiff file into 3D numpy array\"\"\"\n",
    "\n",
    "    import tifffile as tiff\n",
    "    a = tiff.imread(filepath)\n",
    "\n",
    "    stack = []\n",
    "    for sample in a:\n",
    "        stack.append(np.rot90(np.fliplr(np.flipud(sample))))\n",
    "    out = np.dstack(stack)\n",
    "\n",
    "    return out\n",
    "\n",
    "\n",
    "def compute_confusion(gt, pred, threshold=40):\n",
    "    gt = (gt > 0).astype('int')\n",
    "    pred = (pred > threshold).astype('int')\n",
    "    TP = np.sum(pred[gt == 1])\n",
    "    FP = np.sum(pred[gt == 0])\n",
    "    FN = np.sum(gt[pred == 0])\n",
    "    if TP + FP == 0:\n",
    "        precision = 0\n",
    "    else:\n",
    "        precision = TP / (TP + FP)\n",
    "    if TP + FN == 0:\n",
    "        recall = 0\n",
    "    else:\n",
    "        recall = TP / (TP + FN)\n",
    "    f1 = 2 * precision * recall / (precision + recall)\n",
    "    if np.isnan(precision):\n",
    "        precision = 0\n",
    "        f1 = 0\n",
    "    if np.isnan(recall):\n",
    "        recall = 0\n",
    "        f1 = 0\n",
    "    if threshold == 0:\n",
    "        print(precision, recall, f1, TP, FN, FP)\n",
    "    return precision, recall, f1, TP, FN, FP\n",
    "\n",
    "\n",
    "def compute_interval_confusion(threshold_array_input, gt_im_input, pred_im_input):\n",
    "    \n",
    "    eva_metric_array = []\n",
    "    for counter, thres in enumerate(threshold_array_input):\n",
    "        eva = np.asarray(compute_confusion(gt=gt_im_input,\n",
    "                                           pred=pred_im_input,\n",
    "                                           threshold=thres))\n",
    "        eva = np.expand_dims(eva, axis=1)\n",
    "        if counter == 0:\n",
    "            eva_metric_array = eva\n",
    "        else:\n",
    "            eva_metric_array = np.concatenate((eva_metric_array, eva), axis=1)\n",
    "    return eva_metric_array\n",
    "\n",
    "\n",
    "def post_process_confusion(eva_metric_all_input):\n",
    "    precision_metric_interval = eva_metric_all_input[0, :]\n",
    "    # convert last element (precision, reccall) into (1, 0) \n",
    "    precision_metric_interval[-1] = 1\n",
    "    # insert element value 0 at index 0 for precision array\n",
    "    precision_metric_interval = np.insert(precision_metric_interval, obj=0, values=0, axis=0)\n",
    "    recall_metric_interval = eva_metric_all[1, :]\n",
    "    # insert element value 0 at index 0 for recall array\n",
    "    recall_metric_interval = np.insert(recall_metric_interval, obj=0, values=1, axis=0)\n",
    "    f1_metric_interval = eva_metric_array[2, :]\n",
    "    return precision_metric_interval, recall_metric_interval, f1_metric_interval\n",
    "\n",
    "\n",
    "def from_predpath_to_gtpath(predpath, prefix_gt_input):\n",
    "    predpath = predpath.split('/')[-1]\n",
    "    im_num = predpath.split('_')[0]\n",
    "    gt_file_name = im_num + '_gt.tif'\n",
    "    gt_filepath = os.path.join(prefix_gt_input, gt_file_name)\n",
    "    return gt_filepath\n",
    "\n",
    "\n",
    "def from_metric_to_testcurve(eva_metric_all_input):\n",
    "    curve_im_path = '/home/donghao/Desktop/donghao_v2/3D_Synthetic_Neuron/checkpoints/3d_unet_pixel/test_curve/test_curve'\n",
    "    precision_metric_interval, recall_metric_interval, f1_metric_interval = post_process_confusion(eva_metric_all_input=eva_metric_all_input)\n",
    "    plt.xlabel('Threshold Interval/Precision')\n",
    "    plt.ylabel('F1 Score/Recall')\n",
    "    # plt.scatter(threshold_array, threshold_array)\n",
    "    plt.plot(threshold_array, f1_metric_interval, \"r\", label='f1 score')\n",
    "    # plt.plot(threshold_array, eva_metric_all[1, :], \"g\", label='recall')\n",
    "    plt.plot(precision_metric_interval, recall_metric_interval, \"g\", label='precision recall curve')\n",
    "    # plt.plot(threshold_array, eva_metric_all[0, :], \"b\", label='precision')\n",
    "    plt.legend(loc=\"best\")\n",
    "    plt.savefig(curve_im_path)"
   ]
  },
  {
   "cell_type": "code",
   "execution_count": 221,
   "metadata": {},
   "outputs": [
    {
     "name": "stdout",
     "output_type": "stream",
     "text": [
      "/home/donghao/Desktop/donghao_v2/3D_Synthetic_Neuron/datasets/datasets/fly/test_crop/40_gt.tif\n",
      "0.3100945076016984 0.9853117179849853 0.4717280895949994 9056 135 20148\n",
      "/home/donghao/Desktop/donghao_v2/3D_Synthetic_Neuron/datasets/datasets/fly/test_crop/16_gt.tif\n"
     ]
    },
    {
     "name": "stderr",
     "output_type": "stream",
     "text": [
      "/home/donghao/anaconda3/envs/cvprw4/lib/python3.5/site-packages/ipykernel/__main__.py:36: RuntimeWarning: invalid value encountered in double_scalars\n"
     ]
    },
    {
     "name": "stdout",
     "output_type": "stream",
     "text": [
      "0.18251452720549394 0.9813700918964077 0.3077870355814075 11747 223 52615\n",
      "/home/donghao/Desktop/donghao_v2/3D_Synthetic_Neuron/datasets/datasets/fly/test_crop/33_gt.tif\n",
      "0.1640638237785936 0.9745030613100729 0.2808455095899351 11619 304 59201\n",
      "/home/donghao/Desktop/donghao_v2/3D_Synthetic_Neuron/datasets/datasets/fly/test_crop/20_gt.tif\n",
      "0.15285712663130516 0.9756415832970857 0.26430472225222656 13458 336 74585\n",
      "/home/donghao/Desktop/donghao_v2/3D_Synthetic_Neuron/datasets/datasets/fly/test_crop/22_gt.tif\n",
      "0.15421057262163387 0.9778979442942363 0.26640944697766866 22786 515 124973\n"
     ]
    },
    {
     "data": {
      "image/png": "[encoded data removed]",
      "text/plain": [
       "<Figure size 432x288 with 1 Axes>"
      ]
     },
     "metadata": {
      "needs_background": "light"
     },
     "output_type": "display_data"
    }
   ],
   "source": [
    "prefix = '/home/donghao/Desktop/donghao_v2/3D_Synthetic_Neuron/checkpoints/3d_unet_pixel/test_full'\n",
    "prefix_gt = '/home/donghao/Desktop/donghao_v2/3D_Synthetic_Neuron/datasets/datasets/fly/test_crop'\n",
    "allfiles = os.listdir(prefix)\n",
    "threshold_array = np.linspace(start=0, stop=1, num=10)\n",
    "for i, file in enumerate(allfiles):\n",
    "    filepath = os.path.join(prefix, file)\n",
    "    pred_im = loadtiff3d(filepath) / 255\n",
    "    gt_filepath = from_predpath_to_gtpath(predpath=filepath, prefix_gt_input=prefix_gt)\n",
    "    print(gt_filepath)\n",
    "    gt_im = loadtiff3d(gt_filepath) / 255\n",
    "    eva_metric_array = compute_interval_confusion(threshold_array_input=threshold_array,\n",
    "                                                  gt_im_input=gt_im,\n",
    "                                                  pred_im_input=pred_im)\n",
    "    if i == 0:\n",
    "        eva_metric_all = eva_metric_array\n",
    "    else:\n",
    "        eva_metric_all = eva_metric_all + eva_metric_array\n",
    "eva_metric_all = eva_metric_all / (i + 1)\n",
    "from_metric_to_testcurve(eva_metric_all_input=eva_metric_all)"
   ]
  },
  {
   "cell_type": "code",
   "execution_count": 222,
   "metadata": {},
   "outputs": [
    {
     "name": "stdout",
     "output_type": "stream",
     "text": [
      "8_fake_B.tif is being processed\n",
      "0.09058773058773059 0.9711184694628403 0.16571706612672854 5279 157 52996\n"
     ]
    },
    {
     "name": "stderr",
     "output_type": "stream",
     "text": [
      "/home/donghao/anaconda3/envs/cvprw4/lib/python3.5/site-packages/ipykernel/__main__.py:36: RuntimeWarning: invalid value encountered in double_scalars\n"
     ]
    },
    {
     "name": "stdout",
     "output_type": "stream",
     "text": [
      "7_fake_B.tif is being processed\n",
      "0.18755642606846107 0.9670216962524655 0.3141773255068823 12257 418 53094\n",
      "29_fake_B.tif is being processed\n",
      "0.21595727076117163 0.973730252662996 0.3535115291743925 37845 1021 137398\n",
      "3_fake_B.tif is being processed\n",
      "0.16951613658719378 0.9602016449986734 0.2881598853411896 3619 150 17730\n",
      "30_fake_B.tif is being processed\n",
      "0.15312737515089195 0.9849737579984182 0.2650492856244619 13700 209 75768\n",
      "14_fake_B.tif is being processed\n",
      "0.22149846821926772 0.9802123552123552 0.3613440621082851 22341 451 78522\n",
      "21_fake_B.tif is being processed\n",
      "0.12223098513140498 0.9736696230598669 0.21719596892195456 10539 285 75683\n",
      "36_fake_B.tif is being processed\n",
      "0.24316905487420987 0.9826989619377162 0.3898657514888463 9656 170 30053\n",
      "2_fake_B.tif is being processed\n",
      "0.10409044464220969 0.9604622871046229 0.1878252594641211 3158 130 27181\n",
      "17_fake_B.tif is being processed\n",
      "0.17346619217081852 0.982741935483871 0.2948820326678766 6093 107 29032\n",
      "19_fake_B.tif is being processed\n",
      "0.209034374216552 0.9781662946246721 0.34445799205313216 60033 1340 227159\n",
      "10_fake_B.tif is being processed\n",
      "0.11321978412267021 0.9781216648879403 0.2029478928793855 7332 164 57427\n",
      "24_fake_B.tif is being processed\n",
      "0.1038924032598165 0.9719210947218767 0.18771881650305486 5469 158 47172\n",
      "9_fake_B.tif is being processed\n",
      "0.09596345823946427 0.9680984153461217 0.1746178002595009 4643 153 43740\n",
      "39_fake_B.tif is being processed\n",
      "0.09434021624002432 0.9601878535596114 0.17180069896682773 8996 373 86361\n",
      "23_fake_B.tif is being processed\n",
      "0.19298275136726967 0.9828871810987629 0.3226211798685284 34404 599 143871\n",
      "31_fake_B.tif is being processed\n",
      "0.2172696648459357 0.9752263796343755 0.3553673987143769 11416 290 41127\n",
      "28_fake_B.tif is being processed\n",
      "0.16947788936359096 0.9816808613209063 0.28905344342189315 6109 114 29937\n",
      "37_fake_B.tif is being processed\n",
      "0.33670880979223705 0.9721576377586608 0.5001794365691729 33450 958 65894\n",
      "32_fake_B.tif is being processed\n",
      "0.12471307457177461 0.975416121611259 0.22115065018741145 21624 545 151766\n",
      "26_fake_B.tif is being processed\n",
      "0.1567978242232536 0.9721407624633431 0.2700404755237634 5304 152 28523\n",
      "41_fake_B.tif is being processed\n",
      "0.13517432463634266 0.9786693413574056 0.23753956017203604 14636 319 93639\n",
      "6_fake_B.tif is being processed\n",
      "0.12060332008133288 0.9699780327068587 0.2145324983804794 3974 123 28977\n",
      "11_fake_B.tif is being processed\n",
      "0.1076086804242144 0.9818483957561038 0.1939597484911997 7681 142 63698\n",
      "12_fake_B.tif is being processed\n",
      "0.1962700580402868 0.983112441214194 0.3272145144076841 4599 79 18833\n",
      "27_fake_B.tif is being processed\n",
      "0.2680303153777198 0.9799870884441575 0.42093363053656563 39468 806 107784\n",
      "38_fake_B.tif is being processed\n",
      "0.234563127090301 0.9826182136602452 0.37872089098886264 22443 397 73237\n",
      "5_fake_B.tif is being processed\n",
      "0.09741973505521818 0.9691562579658425 0.1770430733410943 3802 121 35225\n",
      "18_fake_B.tif is being processed\n",
      "0.32564366632337793 0.9723247232472325 0.4878876716556087 6324 180 13096\n",
      "34_fake_B.tif is being processed\n",
      "0.1309329425720466 0.9794341789330828 0.23098702513725777 9382 197 62273\n",
      "35_fake_B.tif is being processed\n",
      "0.22197098894360665 0.9706720294955589 0.3613168852637982 11584 350 40603\n",
      "25_fake_B.tif is being processed\n",
      "0.18717309169744997 0.9766611751784734 0.31414213673175595 17785 425 77234\n",
      "15_fake_B.tif is being processed\n",
      "0.1908344826644454 0.979739203589456 0.3194468255328876 13975 289 59256\n",
      "42_fake_B.tif is being processed\n",
      "0.15900246051896363 0.967838176502178 0.27313294603014227 16220 539 85791\n",
      "1_fake_B.tif is being processed\n",
      "0.2467809701239096 0.9709475452393678 0.3935382544312318 25433 761 77626\n",
      "13_fake_B.tif is being processed\n",
      "0.12472361570100568 0.9733741534465163 0.2211146352514726 10492 287 73630\n",
      "4_fake_B.tif is being processed\n",
      "0.13800083348216943 0.9817873782295637 0.241987681386366 2318 43 14479\n"
     ]
    },
    {
     "data": {
      "image/png": "[encoded data removed]",
      "text/plain": [
       "<Figure size 432x288 with 1 Axes>"
      ]
     },
     "metadata": {
      "needs_background": "light"
     },
     "output_type": "display_data"
    }
   ],
   "source": [
    "# find the best threshold from training files \n",
    "prefix = '/home/donghao/Desktop/donghao_v2/3D_Synthetic_Neuron/checkpoints/3d_unet_pixel/train_full'\n",
    "prefix_gt = '/home/donghao/Desktop/donghao_v2/3D_Synthetic_Neuron/datasets/datasets/fly/test_crop'\n",
    "allfiles = os.listdir(prefix)\n",
    "threshold_array = np.linspace(start=0, stop=1, num=10)\n",
    "for i, file in enumerate(allfiles):\n",
    "    print(file, 'is being processed')\n",
    "    filepath = os.path.join(prefix, file)\n",
    "    pred_im = loadtiff3d(filepath) / 255\n",
    "    gt_filepath = from_predpath_to_gtpath(predpath=filepath, prefix_gt_input=prefix_gt)\n",
    "    gt_im = loadtiff3d(gt_filepath) / 255\n",
    "    eva_metric_array = compute_interval_confusion(threshold_array_input=threshold_array,\n",
    "                                                  gt_im_input=gt_im,\n",
    "                                                  pred_im_input=pred_im)\n",
    "    if i == 0:\n",
    "        eva_metric_all = eva_metric_array\n",
    "    else:\n",
    "        eva_metric_all = eva_metric_all + eva_metric_array\n",
    "eva_metric_all = eva_metric_all / (i + 1)\n",
    "from_metric_to_testcurve(eva_metric_all_input=eva_metric_all)"
   ]
  }
 ],
 "metadata": {
  "kernelspec": {
   "display_name": "Python [conda env:cvprw4]",
   "language": "python",
   "name": "conda-env-cvprw4-py"
  },
  "language_info": {
   "codemirror_mode": {
    "name": "ipython",
    "version": 3
   },
   "file_extension": ".py",
   "mimetype": "text/x-python",
   "name": "python",
   "nbconvert_exporter": "python",
   "pygments_lexer": "ipython3",
   "version": "3.5.5"
  }
 },
 "nbformat": 4,
 "nbformat_minor": 4
}
