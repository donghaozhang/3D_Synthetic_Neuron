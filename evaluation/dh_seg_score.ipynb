{
 "cells": [
  {
   "cell_type": "code",
   "execution_count": 15,
   "metadata": {},
   "outputs": [],
   "source": [
    "import torch\n",
    "\n",
    "def loadtiff3d(filepath):\n",
    "    \"\"\"Load a tiff file into 3D numpy array\"\"\"\n",
    "\n",
    "    import tifffile as tiff\n",
    "    a = tiff.imread(filepath)\n",
    "\n",
    "    stack = []\n",
    "    for sample in a:\n",
    "        stack.append(np.rot90(np.fliplr(np.flipud(sample))))\n",
    "    out = np.dstack(stack)\n",
    "\n",
    "    return out\n",
    "\n",
    "\n",
    "def compute_confusion(gt, pred, threshold=40):\n",
    "    gt = (gt > 0).astype('int')\n",
    "    pred = (pred > threshold).astype('int')\n",
    "    TP = np.sum(pred[gt == 1])\n",
    "    FP = np.sum(pred[gt == 0])\n",
    "    FN = np.sum(gt[pred == 0])\n",
    "    if TP + FP == 0:\n",
    "        precision = 0\n",
    "    else:\n",
    "        precision = TP / (TP + FP)\n",
    "    if TP + FN == 0:\n",
    "        recall = 0\n",
    "    else:\n",
    "        recall = TP / (TP + FN)\n",
    "    f1 = 2 * \n",
    "    if np.isnan(precision):\n",
    "        precision = 0\n",
    "        f1 = 0\n",
    "    if np.isnan(recall):\n",
    "        recall = 0\n",
    "        f1 = 0\n",
    "    return precision, recall, f1, TP, FN, FP"
   ]
  },
  {
   "cell_type": "code",
   "execution_count": 44,
   "metadata": {},
   "outputs": [
    {
     "name": "stdout",
     "output_type": "stream",
     "text": [
      "['40_fake_B.tif', '16_fake_B.tif', '33_fake_B.tif', '20_fake_B.tif', '22_fake_B.tif']\n",
      "max and min intensity value of pred im 1.0 0.0\n",
      "the shape of current prediction is (65, 105, 96)\n",
      "40\n",
      "the shape of ground truth is (65, 105, 96)\n",
      "single evaluation metric (0, 0.0, 0, 9191, 0)\n",
      "max and min intensity value of pred im 1.0 0.0\n",
      "the shape of current prediction is (207, 175, 151)\n",
      "16\n",
      "the shape of ground truth is (207, 175, 151)\n",
      "single evaluation metric (0, 0.0, 0, 11970, 0)\n",
      "max and min intensity value of pred im 1.0 0.0\n",
      "the shape of current prediction is (153, 203, 118)\n",
      "33\n",
      "the shape of ground truth is (153, 203, 118)\n",
      "single evaluation metric (0, 0.0, 0, 11923, 0)\n",
      "max and min intensity value of pred im 1.0 0.0\n",
      "the shape of current prediction is (190, 241, 127)\n",
      "20\n",
      "the shape of ground truth is (190, 241, 127)\n",
      "single evaluation metric (0, 0.0, 0, 13794, 0)\n",
      "max and min intensity value of pred im 1.0 0.0\n",
      "the shape of current prediction is (147, 209, 207)\n",
      "22\n",
      "the shape of ground truth is (147, 209, 207)\n",
      "single evaluation metric (0, 0.0, 0, 23301, 0)\n"
     ]
    }
   ],
   "source": [
    "import os\n",
    "import numpy as np\n",
    "prefix = '/home/donghao/Desktop/donghao_v2/3D_Synthetic_Neuron/checkpoints/3d_unet_pixel/test_full'\n",
    "prefix_gt = '/home/donghao/Desktop/donghao_v2/3D_Synthetic_Neuron/datasets/datasets/fly/test_crop'\n",
    "allfiles = os.listdir(prefix)\n",
    "print(allfiles)\n",
    "eva_metric_array = []\n",
    "for file in allfiles:\n",
    "    filepath = os.path.join(prefix, file)\n",
    "    pred_im = loadtiff3d(filepath)\n",
    "    pred_im = pred_im / 255\n",
    "    print('max and min intensity value of pred im', np.max(pred_im), np.min(pred_im))\n",
    "    print('the shape of current prediction is', pred_im.shape)\n",
    "    im_num = file.split('_')[0]\n",
    "    print(im_num)\n",
    "    gt_file_name = im_num + '_gt.tif'\n",
    "    gt_filepath = os.path.join(prefix_gt, gt_file_name)\n",
    "    gt_im = loadtiff3d(gt_filepath)\n",
    "    gt_im = gt_im / 255\n",
    "    print('the shape of ground truth is', gt_im.shape)\n",
    "    #single evulation metric \n",
    "    sin_eva = compute_confusion(gt=gt_im, pred=pred_im, threshold=30)\n",
    "    print('single evaluation metric', sin_eva)"
   ]
  },
  {
   "cell_type": "code",
   "execution_count": 88,
   "metadata": {},
   "outputs": [
    {
     "name": "stdout",
     "output_type": "stream",
     "text": [
      "[0.         0.11111111 0.22222222 0.33333333 0.44444444 0.55555556\n",
      " 0.66666667 0.77777778 0.88888889 1.        ]\n",
      "(5, 1) (5, 1)\n",
      "(5, 2) (5, 1)\n",
      "(5, 3) (5, 1)\n",
      "(5, 4) (5, 1)\n",
      "(5, 5) (5, 1)\n",
      "(5, 6) (5, 1)\n",
      "(5, 7) (5, 1)\n",
      "(5, 8) (5, 1)\n",
      "(5, 9) (5, 1)\n",
      "(5, 10) (5, 1)\n"
     ]
    }
   ],
   "source": [
    "# 0 0.1 0.2 ... 1\n",
    "import numpy as np\n",
    "%matplotlib inline\n",
    "import matplotlib.pyplot as plt \n",
    "threshold_array = np.linspace(start=0, stop=1, num=10)\n",
    "print(threshold_array)\n",
    "eva_metric_array = []\n",
    "for counter, thres in enumerate(threshold_array):\n",
    "    eva = np.asarray(compute_confusion(gt=gt_im,\n",
    "                            pred=pred_im,\n",
    "                            threshold=thres))\n",
    "    eva = np.expand_dims(eva, axis=1)\n",
    "    if counter == 0:\n",
    "        eva_metric_array = eva\n",
    "    else:\n",
    "        eva_metric_array = np.concatenate((eva_metric_array, eva), axis=1)\n",
    "    print(eva_metric_array.shape, eva.shape)\n",
    "    \n",
    "plt.xlabel('Threshold Interval')\n",
    "# plt.ylabel('F1 Score')\n",
    "# plt.scatter(threshold_array, threshold_array)\n",
    "plt.plot(threshold_array, eva_metric_array[5, \"r\", label='label1')\n",
    "plt.legend(loc=\"best\")\n",
    "plt.show()"
   ]
  },
  {
   "cell_type": "code",
   "execution_count": 37,
   "metadata": {},
   "outputs": [
    {
     "data": {
      "image/png": "[encoded data removed]",
      "text/plain": [
       "<Figure size 432x288 with 1 Axes>"
      ]
     },
     "metadata": {
      "needs_background": "light"
     },
     "output_type": "display_data"
    }
   ],
   "source": [
    "\n"
   ]
  },
  {
   "cell_type": "code",
   "execution_count": 77,
   "metadata": {},
   "outputs": [
    {
     "name": "stdout",
     "output_type": "stream",
     "text": [
      "(5, 1)\n",
      "(5, 2, 1)\n"
     ]
    }
   ],
   "source": [
    "print(eva.shape)\n",
    "print(eva_metric_array.shape)"
   ]
  },
  {
   "cell_type": "code",
   "execution_count": null,
   "metadata": {},
   "outputs": [],
   "source": []
  }
 ],
 "metadata": {
  "kernelspec": {
   "display_name": "Python [conda env:cvprw4]",
   "language": "python",
   "name": "conda-env-cvprw4-py"
  },
  "language_info": {
   "codemirror_mode": {
    "name": "ipython",
    "version": 3
   },
   "file_extension": ".py",
   "mimetype": "text/x-python",
   "name": "python",
   "nbconvert_exporter": "python",
   "pygments_lexer": "ipython3",
   "version": "3.5.5"
  }
 },
 "nbformat": 4,
 "nbformat_minor": 4
}
