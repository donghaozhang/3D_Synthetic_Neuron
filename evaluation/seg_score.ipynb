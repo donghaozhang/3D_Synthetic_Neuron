{
 "cells": [
  {
   "cell_type": "code",
   "execution_count": 42,
   "metadata": {},
   "outputs": [],
   "source": [
    "def loadtiff3d(filepath):\n",
    "    \"\"\"Load a tiff file into 3D numpy array\"\"\"\n",
    "\n",
    "    import tifffile as tiff\n",
    "    a = tiff.imread(filepath)\n",
    "\n",
    "    stack = []\n",
    "    for sample in a:\n",
    "        stack.append(np.rot90(np.fliplr(np.flipud(sample))))\n",
    "    out = np.dstack(stack)\n",
    "\n",
    "    return out\n",
    "\n",
    "def writetiff3d(filepath, block):\n",
    "    import tifffile as tiff\n",
    "\n",
    "    try:\n",
    "        os.remove(filepath)\n",
    "    except OSError:\n",
    "        pass\n",
    "\n",
    "    with tiff.TiffWriter(filepath, bigtiff=False) as tif:\n",
    "        for z in range(block.shape[2]):\n",
    "            saved_block = np.rot90(block[:, :, z])\n",
    "            tif.save(saved_block.astype('uint8'), compress=0)"
   ]
  },
  {
   "cell_type": "code",
   "execution_count": 43,
   "metadata": {},
   "outputs": [],
   "source": [
    "def compute_confusion(gt, pred, threshold=40):\n",
    "    gt = (gt > 0).astype('int')\n",
    "    pred = (pred > threshold).astype('int')\n",
    "    # print(gt.shape)\n",
    "    # print(pred.shape)\n",
    "    TP = np.sum(pred[gt == 1])\n",
    "    FP = np.sum(pred[gt == 0])\n",
    "    FN = np.sum(gt[pred == 0])\n",
    "\n",
    "#     print('TP: {}; FP: {}; FN: {}'.format(TP, FP, FN))\n",
    "\n",
    "    if TP + FP == 0:\n",
    "        precision = 0\n",
    "    else:\n",
    "        precision = TP / (TP + FP)\n",
    "    if TP + FN == 0:\n",
    "        recall = 0\n",
    "    else:\n",
    "        recall = TP / (TP + FN)\n",
    "    # f1 = (2 * (recall * precision)) / (recall + precision)\n",
    "    if np.isnan(precision):\n",
    "        precision = 0\n",
    "    if np.isnan(recall):\n",
    "        recall = 0\n",
    "#     print('precision: {}, recall: {}'.format(precision, recall))\n",
    "    return precision, recall,TP, FN, FP"
   ]
  },
  {
   "cell_type": "code",
   "execution_count": 44,
   "metadata": {},
   "outputs": [],
   "source": [
    "def iou_3d(gt, pred, threshold=40):\n",
    "    gt = (gt > 0).astype('int')\n",
    "    pred = (pred > threshold).astype('int')\n",
    "    interArea = max(0, pred - gt + 1) * max(0, yB - yA + 1)"
   ]
  },
  {
   "cell_type": "code",
   "execution_count": 172,
   "metadata": {},
   "outputs": [],
   "source": [
    "from sklearn.metrics import roc_curve, auc\n",
    "%matplotlib inline\n",
    "import os\n",
    "import matplotlib.pyplot as plt\n",
    "import numpy as np\n",
    "\n",
    "prefix = '/media/jacktang/Work/USYD/Research/Deep_Learning/GAN/pytorch-CycleGAN-and-pix2pix/datasets/datasets/fly/fly3d/seg/val/'\n",
    "gt_path = prefix + 'labels/'\n",
    "predict_path = prefix + 'predict/'\n",
    "result_metric_basic = [[0,1]]\n",
    "\n",
    "for i in range(0,120,1):\n",
    "    eva_metric = np.array([0.0,0.0,0.0,0.0,0.0])\n",
    "    for f in os.listdir(predict_path):\n",
    "        predict = loadtiff3d(predict_path+f)\n",
    "        gt = loadtiff3d(gt_path+f.rstrip('.tif')+'_gt.tif')\n",
    "\n",
    "        result = compute_confusion(gt, predict, i)\n",
    "        eva_metric += np.array(result)\n",
    "    \n",
    "    eva_metric/=5\n",
    "#     print(i, eva_metric[:2]*100)\n",
    "    result_metric_basic.append([eva_metric[0],eva_metric[1]])\n",
    "\n",
    "result_metric_basic.append([1,0])\n",
    "result_metric_basic = np.array(result_metric_basic)    \n",
    "# print('auc', auc(result_metric_basic[:,0], result_metric_basic[:,1]))\n",
    "# plt.xlim([0.0, 1.0])\n",
    "# plt.ylim([0.0, 1.05])    \n",
    "# plt.plot(result_metric[:,0], result_metric[:,1] , label='no syn')"
   ]
  },
  {
   "cell_type": "code",
   "execution_count": 173,
   "metadata": {},
   "outputs": [],
   "source": [
    "%matplotlib inline\n",
    "import os\n",
    "import matplotlib.pyplot as plt\n",
    "import numpy as np\n",
    "\n",
    "prefix = '/media/jacktang/Work/USYD/Research/Deep_Learning/GAN/pytorch-CycleGAN-and-pix2pix/datasets/datasets/fly/fly3d/seg/val/'\n",
    "gt_path = prefix + 'labels/'\n",
    "predict_path = prefix + 'predict_extra/'\n",
    "result_metric_extra = [[0,1]]\n",
    "\n",
    "for i in range(0,120,1):\n",
    "    eva_metric = np.array([0.0,0.0,0.0,0.0,0.0])\n",
    "    for f in os.listdir(predict_path):\n",
    "        predict = loadtiff3d(predict_path+f)\n",
    "        gt = loadtiff3d(gt_path+f.rstrip('.tif')+'_gt.tif')\n",
    "\n",
    "        result = compute_confusion(gt, predict, i)\n",
    "        eva_metric += np.array(result)\n",
    "    \n",
    "    eva_metric/=5\n",
    "#     print(i, eva_metric[:2]*100)\n",
    "    result_metric_extra.append([eva_metric[0],eva_metric[1]])\n",
    "\n",
    "result_metric_extra.append([1,0])\n",
    "result_metric_extra = np.array(result_metric_extra)  \n",
    "# print('auc', auc(result_metric_extra[:,0], result_metric_extra[:,1]))"
   ]
  },
  {
   "cell_type": "code",
   "execution_count": 174,
   "metadata": {},
   "outputs": [],
   "source": [
    "%matplotlib inline\n",
    "import os\n",
    "import matplotlib.pyplot as plt\n",
    "import numpy as np\n",
    "\n",
    "prefix = '/media/jacktang/Work/USYD/Research/Deep_Learning/GAN/pytorch-CycleGAN-and-pix2pix/datasets/datasets/fly/fly3d/seg/val/'\n",
    "gt_path = prefix + 'labels/'\n",
    "predict_path = prefix + 'predict_aug/'\n",
    "result_metric_aug = [[0,1]]\n",
    "\n",
    "for i in range(0,120,1):\n",
    "    eva_metric = np.array([0.0,0.0,0.0,0.0,0.0])\n",
    "    for f in os.listdir(predict_path):\n",
    "        predict = loadtiff3d(predict_path+f)\n",
    "        gt = loadtiff3d(gt_path+f.rstrip('.tif')+'_gt.tif')\n",
    "\n",
    "        result = compute_confusion(gt, predict, i)\n",
    "        eva_metric += np.array(result)\n",
    "    \n",
    "    eva_metric/=5\n",
    "#     print(i, eva_metric[:2]*100)\n",
    "    result_metric_aug.append([eva_metric[0],eva_metric[1]])\n",
    "\n",
    "result_metric_aug.append([1,0])\n",
    "result_metric_aug = np.array(result_metric_aug)  \n",
    "# print('auc', auc(result_metric_extra[:,0], result_metric_extra[:,1]))"
   ]
  },
  {
   "cell_type": "code",
   "execution_count": 169,
   "metadata": {},
   "outputs": [],
   "source": [
    "%matplotlib inline\n",
    "import os\n",
    "import matplotlib.pyplot as plt\n",
    "import numpy as np\n",
    "\n",
    "prefix = '/media/jacktang/Work/USYD/Research/Deep_Learning/GAN/pytorch-CycleGAN-and-pix2pix/datasets/datasets/fly/fly3d/seg/val/'\n",
    "gt_path = prefix + 'labels/'\n",
    "predict_path = prefix + 'predict_aug_syn/'\n",
    "result_metric_aug_syn = [[0,1]]\n",
    "\n",
    "for i in range(0,255,10):\n",
    "    eva_metric = np.array([0.0,0.0,0.0,0.0,0.0])\n",
    "    for f in os.listdir(predict_path):\n",
    "        predict = loadtiff3d(predict_path+f)\n",
    "        gt = loadtiff3d(gt_path+f.rstrip('.tif')+'_gt.tif')\n",
    "\n",
    "        result = compute_confusion(gt, predict, i)\n",
    "        eva_metric += np.array(result)\n",
    "    \n",
    "    eva_metric/=5\n",
    "#     print(i, eva_metric[:2]*100)\n",
    "    result_metric_aug_syn.append([eva_metric[0],eva_metric[1]])\n",
    "\n",
    "result_metric_aug_syn.append([1,0])\n",
    "result_metric_aug_syn = np.array(result_metric_aug_syn)  \n",
    "# print('auc', auc(result_metric_extra[:,0], result_metric_extra[:,1]))"
   ]
  },
  {
   "cell_type": "code",
   "execution_count": 175,
   "metadata": {},
   "outputs": [
    {
     "data": {
      "text/plain": [
       "<matplotlib.legend.Legend at 0x7f01075d4128>"
      ]
     },
     "execution_count": 175,
     "metadata": {},
     "output_type": "execute_result"
    },
    {
     "data": {
      "image/png": "[encoded data removed]",
      "text/plain": [
       "<Figure size 432x288 with 1 Axes>"
      ]
     },
     "metadata": {
      "needs_background": "light"
     },
     "output_type": "display_data"
    }
   ],
   "source": [
    "plt.xlim([0.0, 1.0])\n",
    "plt.ylim([0.0, 1.05])\n",
    "plt.plot(result_metric_basic[:,0], result_metric_basic[:,1] , label='Raw')\n",
    "plt.plot(result_metric_aug[:,0], result_metric_aug[:,1] , label='Raw + Augmentation')\n",
    "plt.plot(result_metric_extra[:,0], result_metric_extra[:,1] , label='Raw + Synthesis')\n",
    "# plt.plot(result_metric_aug_syn[:,0], result_metric_aug_syn[:,1] , label='Raw + Aug + Synthesis')\n",
    "# plt.title('The segmenetation ROC for different data')\n",
    "plt.xlabel('Recall')\n",
    "plt.ylabel('Precision')\n",
    "plt.legend(loc=\"best\")"
   ]
  },
  {
   "cell_type": "code",
   "execution_count": null,
   "metadata": {},
   "outputs": [],
   "source": [
    "0.3685"
   ]
  },
  {
   "cell_type": "code",
   "execution_count": 64,
   "metadata": {},
   "outputs": [
    {
     "name": "stdout",
     "output_type": "stream",
     "text": [
      "[0.         0.00519608 0.00743223 0.07477626 0.1389566  0.19361911\n",
      " 0.21739999 0.31768609 0.41357253 0.47253826 0.51015368 0.54206886\n",
      " 0.57392713 0.60056105 0.65128678 0.68202282 0.71545975 0.7306454\n",
      " 0.74494396 0.75781531 0.76872435 0.78116991 0.78979994 0.7996498\n",
      " 0.81086048 0.82064584 0.82850071 0.83954457]\n"
     ]
    }
   ],
   "source": [
    "result_metric = np.array(result_metric)\n",
    "print(result_metric[:,0])"
   ]
  },
  {
   "cell_type": "code",
   "execution_count": null,
   "metadata": {},
   "outputs": [],
   "source": [
    "syn:\n",
    "30 [41.00380123 60.26141076]\n",
    "35 [45.80912308 54.04797205]\n",
    "40 [49.87409335 48.23135665]\n",
    "45 [53.45303027 42.68083732]\n",
    "50 [56.8116825  37.45801912]\n",
    "55 [60.14449679 32.56094719]\n",
    "60 [63.17972342 27.91041277]\n",
    "65 [66.33976043 23.53256582]\n",
    "70 [69.41321005 19.46047681]\n",
    "75 [72.38920485 15.4689831 ]\n",
    "80 [74.5113832  10.25295494]\n",
    "85 [75.79297115  7.99578521]\n",
    "90 [77.58239355  6.12516733]\n",
    "95 [78.64543023  4.51580837]"
   ]
  }
 ],
 "metadata": {
  "kernelspec": {
   "display_name": "Python [default]",
   "language": "python",
   "name": "python3"
  },
  "language_info": {
   "codemirror_mode": {
    "name": "ipython",
    "version": 3
   },
   "file_extension": ".py",
   "mimetype": "text/x-python",
   "name": "python",
   "nbconvert_exporter": "python",
   "pygments_lexer": "ipython3",
   "version": "3.5.5"
  }
 },
 "nbformat": 4,
 "nbformat_minor": 4
}
