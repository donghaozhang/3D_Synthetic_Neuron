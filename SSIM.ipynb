{
 "cells": [
  {
   "cell_type": "code",
   "execution_count": 20,
   "metadata": {},
   "outputs": [
    {
     "name": "stdout",
     "output_type": "stream",
     "text": [
      "0.5011055\n",
      "\n",
      "0.4318894\n",
      "\n",
      "0.575716\n",
      "\n",
      "0.5300824\n",
      "\n",
      "0.6326412\n",
      "\n",
      "0.5342869\n"
     ]
    }
   ],
   "source": [
    "import subprocess\n",
    "import os\n",
    "\n",
    "path = '/media/jacktang/Work/USYD/Research/Deep_Learning/GAN/pytorch-CycleGAN-and-pix2pix/checkpoints/'\n",
    "methods = ['2d_unet_neuron_z32', '3d_unet_neuron_z32', '3d_linknet_neuron']\n",
    "\n",
    "real_path = path+methods[1]+'/test_full/real_B_project/'\n",
    "fake_path = path+methods[1]+'/test_full/fake_B_project/'\n",
    "\n",
    "total = 0\n",
    "for _,(real,fake) in enumerate(zip(os.listdir(real_path), os.listdir(fake_path))):\n",
    "#     print(real,fake)\n",
    "#     print(real_path+real, fake_path+fake)\n",
    "    cmd = ['pyssim', real_path+real, fake_path+fake]\n",
    "    output = subprocess.Popen( cmd, stdout=subprocess.PIPE ).communicate()[0]\n",
    "    print(output.decode(\"utf-8\"))\n",
    "    total+=float(output.decode(\"utf-8\"))\n",
    "print(total/5)"
   ]
  },
  {
   "cell_type": "code",
   "execution_count": null,
   "metadata": {},
   "outputs": [],
   "source": [
    "0.6821576\n",
    "\n",
    "0.7400352\n",
    "\n",
    "0.5422718\n",
    "\n",
    "0.655771\n",
    "\n",
    "0.5273365\n",
    "\n",
    "\n",
    "0.5011055\n",
    "\n",
    "0.4318894\n",
    "\n",
    "0.575716\n",
    "\n",
    "0.5300824\n",
    "\n",
    "0.6326412"
   ]
  },
  {
   "cell_type": "code",
   "execution_count": 41,
   "metadata": {},
   "outputs": [],
   "source": [
    "def loadtiff3d(filepath):\n",
    "    \"\"\"Load a tiff file into 3D numpy array\"\"\"\n",
    "\n",
    "    import tifffile as tiff\n",
    "    a = tiff.imread(filepath)\n",
    "\n",
    "    stack = []\n",
    "    for sample in a:\n",
    "        stack.append(np.rot90(np.fliplr(np.flipud(sample))))\n",
    "    out = np.dstack(stack)\n",
    "\n",
    "    return out\n",
    "\n",
    "def writetiff3d(filepath, block):\n",
    "    import tifffile as tiff\n",
    "\n",
    "    try:\n",
    "        os.remove(filepath)\n",
    "    except OSError:\n",
    "        pass\n",
    "\n",
    "    with tiff.TiffWriter(filepath, bigtiff=False) as tif:\n",
    "        for z in range(block.shape[2]):\n",
    "            saved_block = np.rot90(block[:, :, z])\n",
    "            tif.save(saved_block.astype('uint8'), compress=0)"
   ]
  },
  {
   "cell_type": "code",
   "execution_count": null,
   "metadata": {},
   "outputs": [],
   "source": [
    "(207, 175, 151)\n",
    "0.949205702591625\n",
    "(190, 241, 127)\n",
    "0.9298947389583114\n",
    "(147, 209, 207)\n",
    "0.8786159546436956\n",
    "(153, 203, 116)\n",
    "0.8403984850399471\n",
    "(65, 105, 95)\n",
    "0.7149634649807374\n",
    "average: 0.8626156692428634"
   ]
  },
  {
   "cell_type": "code",
   "execution_count": 77,
   "metadata": {},
   "outputs": [
    {
     "name": "stdout",
     "output_type": "stream",
     "text": [
      "0.9536027670736983\n",
      "36.8797522840598\n",
      "0.9529356751639284\n",
      "29.883761368658355\n",
      "0.925281883330857\n",
      "35.04958424670749\n",
      "0.8269231907544411\n",
      "42.290504667978965\n",
      "0.6710535649510824\n",
      "190.48211760169656\n",
      "average SSIM: 0.8659594162548014\n",
      "average mse: 66.91714403382022\n",
      "average psnr1: 31.144797200405254\n",
      "average psnr2: 31.144797200405254\n"
     ]
    }
   ],
   "source": [
    "from skimage import measure\n",
    "import cv2\n",
    "import numpy as np\n",
    "import math\n",
    "\n",
    "path = '/media/jacktang/Work/USYD/Research/Deep_Learning/GAN/pytorch-CycleGAN-and-pix2pix/checkpoints/'\n",
    "methods = ['2d_unet_neuron_z32', '3d_unet_neuron_z32', '3d_linknet_neuron']\n",
    "\n",
    "real_path = path+methods[1]+'/test_full/real_B/'\n",
    "fake_path = path+methods[1]+'/test_full/fake_B/'\n",
    "\n",
    "total_ssim = 0\n",
    "total_mse = 0\n",
    "total_psnr_1 = 0\n",
    "total_psnr_2 = 0\n",
    "for _,(real,fake) in enumerate(zip(os.listdir(real_path), os.listdir(fake_path))):\n",
    "    a = loadtiff3d(real_path+real)\n",
    "    b = loadtiff3d(fake_path+fake)\n",
    "    \n",
    "    s = measure.compare_ssim(a, b)\n",
    "    m = mse(a,b)\n",
    "    psnr_1 = psnr1(a,b)\n",
    "    psnr_2 = psnr2(a,b)\n",
    "    total_ssim += s\n",
    "    total_mse += m\n",
    "    total_psnr_1 += psnr_1\n",
    "    total_psnr_2 += psnr_2\n",
    "#     print(a.shape)\n",
    "    print(s)\n",
    "    print(m)\n",
    "    \n",
    "    \n",
    "print('average SSIM:', total_ssim/5)\n",
    "print('average mse:', total_mse/5)\n",
    "print('average psnr1:', total_psnr_1/5)\n",
    "print('average psnr2:', total_psnr_2/5)"
   ]
  },
  {
   "cell_type": "code",
   "execution_count": null,
   "metadata": {},
   "outputs": [],
   "source": [
    "U-net\n",
    "0.9536027670736983\n",
    "36.8797522840598\n",
    "0.9529356751639284\n",
    "29.883761368658355\n",
    "0.925281883330857\n",
    "35.04958424670749\n",
    "0.8269231907544411\n",
    "42.290504667978965\n",
    "0.6710535649510824\n",
    "190.48211760169656\n",
    "average SSIM: 0.8659594162548014\n",
    "average mse: 66.91714403382022\n",
    "average psnr1: 31.144797200405254\n",
    "average psnr2: 31.144797200405254\n",
    "    \n",
    "Link-net\n",
    "0.949205702591625\n",
    "38.187937239201275\n",
    "0.9298947389583114\n",
    "34.44531591500397\n",
    "0.8786159546436956\n",
    "44.692158591472094\n",
    "0.8403984850399471\n",
    "46.61583321398317\n",
    "0.7149634649807374\n",
    "212.76616464237517\n",
    "average SSIM: 0.8626156692428634\n",
    "average mse: 75.34148192040713\n",
    "average psnr1: 30.599356169078483\n",
    "average psnr2: 30.599356169078483"
   ]
  },
  {
   "cell_type": "code",
   "execution_count": 65,
   "metadata": {},
   "outputs": [],
   "source": [
    "def mse(imageA, imageB):\n",
    "    # the 'Mean Squared Error' between the two images is the\n",
    "    # sum of the squared difference between the two images;\n",
    "    # NOTE: the two images must have the same dimension\n",
    "    err = np.sum((imageA.astype(\"float\") - imageB.astype(\"float\")) ** 2)\n",
    "    err /= float(imageA.shape[0] * imageA.shape[1] * imageA.shape[2])\n",
    "    \n",
    "    return err"
   ]
  },
  {
   "cell_type": "code",
   "execution_count": 72,
   "metadata": {},
   "outputs": [],
   "source": [
    "def psnr1(img1, img2):\n",
    "   mse = np.mean((img1.astype(\"float\") - img2.astype(\"float\")) ** 2 )\n",
    "   if mse < 1.0e-10:\n",
    "      return 100\n",
    "   return 10 * math.log10(255.0**2/mse)\n",
    "\n",
    "def psnr2(img1, img2):\n",
    "   mse = np.mean( (img1/255. - img2/255.) ** 2 )\n",
    "   if mse < 1.0e-10:\n",
    "      return 100\n",
    "   PIXEL_MAX = 1\n",
    "   return 20 * math.log10(PIXEL_MAX / math.sqrt(mse))"
   ]
  },
  {
   "cell_type": "code",
   "execution_count": 68,
   "metadata": {},
   "outputs": [
    {
     "name": "stdout",
     "output_type": "stream",
     "text": [
      "0.925281883330857\n",
      "0.9563718927354815\n",
      "0.8409747123412363\n",
      "35.04958424670749\n",
      "37.64144110826033\n",
      "37.848101022994776\n"
     ]
    }
   ],
   "source": [
    "path = '/media/jacktang/Work/USYD/Research/Deep_Learning/GAN/pytorch-CycleGAN-and-pix2pix/checkpoints/'\n",
    "methods = ['2d_unet_neuron_z32', '3d_unet_neuron_z32', '3d_linknet_neuron']\n",
    "\n",
    "real_path = path+methods[1]+'/test_full/real_B/'\n",
    "fake_path = path+methods[1]+'/test_full/fake_B/'\n",
    "\n",
    "real = loadtiff3d(real_path+'22_real_B.tif')\n",
    "fake = loadtiff3d(fake_path+'22_fake_B.tif')\n",
    "empty = np.zeros_like(fake)\n",
    "fill = np.ones_like(fake)\n",
    "# print(np.unique(a))\n",
    "# print(np.unique(b))\n",
    "print(measure.compare_ssim(fake, real))\n",
    "print(measure.compare_ssim(empty, real))\n",
    "print(measure.compare_ssim(fill, real))\n",
    "print(mse(fake, real))\n",
    "print(mse(empty, real))\n",
    "print(mse(fill, real))"
   ]
  },
  {
   "cell_type": "code",
   "execution_count": null,
   "metadata": {},
   "outputs": [],
   "source": []
  }
 ],
 "metadata": {
  "kernelspec": {
   "display_name": "Python 3",
   "language": "python",
   "name": "python3"
  },
  "language_info": {
   "codemirror_mode": {
    "name": "ipython",
    "version": 3
   },
   "file_extension": ".py",
   "mimetype": "text/x-python",
   "name": "python",
   "nbconvert_exporter": "python",
   "pygments_lexer": "ipython3",
   "version": "3.6.9"
  }
 },
 "nbformat": 4,
 "nbformat_minor": 2
}
